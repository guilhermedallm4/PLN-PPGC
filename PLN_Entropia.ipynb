{
  "nbformat": 4,
  "nbformat_minor": 0,
  "metadata": {
    "colab": {
      "provenance": [],
      "collapsed_sections": [
        "2a5ud8__WUMo",
        "XWqbkuaV1IOS"
      ]
    },
    "kernelspec": {
      "name": "python3",
      "display_name": "Python 3"
    },
    "language_info": {
      "name": "python"
    }
  },
  "cells": [
    {
      "cell_type": "markdown",
      "source": [
        "#2024/1 - 1118003 - 1 - TÓPICOS ESPECIAIS EM COMPUTAÇÃO II\n",
        "#Processamento de Linguagem Natural - PLN\n",
        "#Guilherme Dallmann Lima"
      ],
      "metadata": {
        "id": "GLawKLty5rCx"
      }
    },
    {
      "cell_type": "markdown",
      "source": [
        "#Biblioteca"
      ],
      "metadata": {
        "id": "2a5ud8__WUMo"
      }
    },
    {
      "cell_type": "code",
      "execution_count": null,
      "metadata": {
        "id": "8hZZIfWwV8DR"
      },
      "outputs": [],
      "source": [
        "from collections import Counter\n",
        "import math"
      ]
    },
    {
      "cell_type": "markdown",
      "source": [
        "#Cálculo da Entropia"
      ],
      "metadata": {
        "id": "XWqbkuaV1IOS"
      }
    },
    {
      "cell_type": "code",
      "source": [
        "def calculate_entropy(word):\n",
        "\n",
        "    char_count = Counter(word)\n",
        "\n",
        "    total_chars = sum(char_count.values())\n",
        "\n",
        "    char_probabilities = {char: count / total_chars for char, count in char_count.items()}\n",
        "\n",
        "    entropy = sum(-prob * math.log2(prob) for prob in char_probabilities.values())\n",
        "\n",
        "    return entropy"
      ],
      "metadata": {
        "id": "Xvvc4esZ2o0Z"
      },
      "execution_count": null,
      "outputs": []
    },
    {
      "cell_type": "code",
      "source": [
        "words = [\"ARARAQUARA\", \"UFPEL\", \"PELOTAS\"]\n",
        "\n",
        "for word in words:\n",
        "    entropy = calculate_entropy(word)\n",
        "    print(f\"A entropia da palavra '{word}' é: {entropy}\")"
      ],
      "metadata": {
        "id": "hUebxXXqWTnh",
        "colab": {
          "base_uri": "https://localhost:8080/"
        },
        "outputId": "b3dc5a61-937b-4493-963b-1cd4a0a4fa3b"
      },
      "execution_count": null,
      "outputs": [
        {
          "output_type": "stream",
          "name": "stdout",
          "text": [
            "A entropia da palavra 'ARARAQUARA' é: 1.6854752972273346\n",
            "A entropia da palavra 'UFPEL' é: 2.321928094887362\n",
            "A entropia da palavra 'PELOTAS' é: 2.807354922057604\n"
          ]
        }
      ]
    },
    {
      "cell_type": "markdown",
      "source": [
        "#Explicação"
      ],
      "metadata": {
        "id": "OiRf9EKx4uah"
      }
    },
    {
      "cell_type": "markdown",
      "source": [
        "ARARAQUARA: A entropia é a mais baixa (1.685) devido à alta repetição das letras \"A\" e \"R\", resultando em menor diversidade de caracteres.\n",
        "UFPEL: Tem uma entropia maior (2.321) porque todas as letras são únicas, o que aumenta a diversidade e, consequentemente, a entropia.\n",
        "PELOTAS: A entropia mais alta (2.807) indica uma distribuição bastante uniforme de letras, com poucas repetições, tornando a palavra mais imprevisível e complexa."
      ],
      "metadata": {
        "id": "7OdTPUAc4UTp"
      }
    }
  ]
}