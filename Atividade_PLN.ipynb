{
  "nbformat": 4,
  "nbformat_minor": 0,
  "metadata": {
    "colab": {
      "provenance": []
    },
    "kernelspec": {
      "name": "python3",
      "display_name": "Python 3"
    },
    "language_info": {
      "name": "python"
    }
  },
  "cells": [
    {
      "cell_type": "markdown",
      "source": [
        "#2024/1 - 1118003 - 1 - TÓPICOS ESPECIAIS EM COMPUTAÇÃO II\n",
        "#Processamento de Linguagem Natural - PLN\n",
        "#Guilherme Dallmann Lima"
      ],
      "metadata": {
        "id": "GcwZwlP3dFbt"
      }
    },
    {
      "cell_type": "markdown",
      "source": [
        "#Processamento de Linguagem Natural\n",
        "##Strings e Pré Processamento\n",
        "\n",
        "###Pense num algoritmo e elabore um programa em Python para cada um dos problemas a seguir. Os exercícios propostos devem ser resolvidos necessariamente com uso de métodos de strings sempre que possível. Para cada um dos problemas propostos elabore e desenvolva o algoritmo, execute e teste. Os algoritmos desenvolvidos devem ser submetidos através do e-aula. Dica: consulte a documentação da linguagem sobre strings.\n",
        "\n",
        "####Para os exercícios 5, 6, 7, e 8 considere o seguinte texto como entrada: Entrada:\n",
        "#####\"Joãozinho e Maria, dois irmãos aventureiros, decidiram explorar a floresta misteriosa próxima à sua casa. A floresta era densa, com árvores altas e folhagem espessa. Enquanto caminhavam, João e Maria encontraram pegadas estranhas no chão e decidiram segui-las. As pegadas os levaram a uma clareira onde descobriram uma casa feita inteiramente de doces! Ficaram fascinados e não resistiram à tentação de experimentar os doces. Mas, assim que começaram a comer, uma bruxa má e enrugada apareceu. A bruxa riu de forma maligna e os assustou. Joãozinho e Maria, apavorados, deixaram os doces e fugiram da casa. A bruxa tentou segui-los, mas eles eram ágeis e conseguiram escapar. Finalmente, após uma longa e cansativa jornada, João e Maria voltaram em segurança para sua casa, onde prometeram nunca mais se aventurar naquela floresta perigosa.\"\n"
      ],
      "metadata": {
        "id": "fc-jr-GtdPC9"
      }
    },
    {
      "cell_type": "markdown",
      "source": [
        "##Bibliotecas"
      ],
      "metadata": {
        "id": "L8TTY7y2dt9V"
      }
    },
    {
      "cell_type": "code",
      "execution_count": null,
      "metadata": {
        "id": "lmScEqmLdC7I"
      },
      "outputs": [],
      "source": [
        "import nltk as nltk\n",
        "from nltk.tokenize import word_tokenize\n",
        "from nltk.corpus import stopwords\n",
        "import re"
      ]
    },
    {
      "cell_type": "code",
      "source": [
        "pip install unidecode"
      ],
      "metadata": {
        "colab": {
          "base_uri": "https://localhost:8080/"
        },
        "id": "u5ovbo0lnCCf",
        "outputId": "df063b16-a37a-4c52-9bcb-27432fba5d12"
      },
      "execution_count": null,
      "outputs": [
        {
          "output_type": "stream",
          "name": "stdout",
          "text": [
            "Collecting unidecode\n",
            "  Downloading Unidecode-1.3.8-py3-none-any.whl (235 kB)\n",
            "\u001b[2K     \u001b[90m━━━━━━━━━━━━━━━━━━━━━━━━━━━━━━━━━━━━━━━━\u001b[0m \u001b[32m235.5/235.5 kB\u001b[0m \u001b[31m4.8 MB/s\u001b[0m eta \u001b[36m0:00:00\u001b[0m\n",
            "\u001b[?25hInstalling collected packages: unidecode\n",
            "Successfully installed unidecode-1.3.8\n"
          ]
        }
      ]
    },
    {
      "cell_type": "code",
      "source": [
        "from unidecode import unidecode"
      ],
      "metadata": {
        "id": "CD75Ov2xnDwQ"
      },
      "execution_count": null,
      "outputs": []
    },
    {
      "cell_type": "code",
      "source": [
        "history = \"Joãozinho e Maria, dois irmãos aventureiros, decidiram explorar a floresta misteriosa próxima à sua casa. A floresta era densa, com árvores altas e folhagem espessa. Enquanto caminhavam, João e Maria encontraram pegadas estranhas no chão e decidiram segui-las. As pegadas os levaram a uma clareira onde descobriram uma casa feita inteiramente de doces! Ficaram fascinados e não resistiram à tentação de experimentar os doces. Mas, assim que começaram a comer, uma bruxa má e enrugada apareceu. A bruxa riu de forma maligna e os assustou. Joãozinho e Maria, apavorados, deixaram os doces e fugiram da casa. A bruxa tentou segui-los, mas eles eram ágeis e conseguiram escapar. Finalmente, após uma longa e cansativa jornada, João e Maria voltaram em segurança para sua casa, onde prometeram nunca mais se aventurar naquela floresta perigosa.\""
      ],
      "metadata": {
        "id": "T8R2lrdAln1n"
      },
      "execution_count": null,
      "outputs": []
    },
    {
      "cell_type": "markdown",
      "source": [
        "##**Problema 1:**\n",
        "\n",
        "###Solicite ao usuário que insira uma frase. Seu programa deve inverter a ordem das palavras na frase e exibi-la de trás para frente. Por exemplo, se o usuário inserir \"Python é divertido\", o programa deve exibir \"divertido é Python\". Remova espaços extras contidos na frase, se houver\n"
      ],
      "metadata": {
        "id": "sw4HQcXwdxjE"
      }
    },
    {
      "cell_type": "code",
      "source": [
        "text = input(\"Insira uma String: \")\n",
        "\n",
        "words = text.split()\n",
        "\n",
        "textInverse = ' '.join(reversed(words))\n",
        "\n",
        "print(textInverse)\n"
      ],
      "metadata": {
        "colab": {
          "base_uri": "https://localhost:8080/"
        },
        "id": "WxJ-76xnd-cU",
        "outputId": "ede587a5-d748-4beb-c12c-ef0b81cea4aa"
      },
      "execution_count": null,
      "outputs": [
        {
          "output_type": "stream",
          "name": "stdout",
          "text": [
            "Insira uma String: Python é divertido\n",
            "divertido é Python\n"
          ]
        }
      ]
    },
    {
      "cell_type": "markdown",
      "source": [
        "##**Problema 2:**\n",
        "\n",
        "###Peça ao usuário para inserir uma frase ou uma palavra. Em seguida, crie um programa que conte quantas vogais e consoantes estão presentes na entrada. Exiba os resultados.\n"
      ],
      "metadata": {
        "id": "RiDZD4hdd-vi"
      }
    },
    {
      "cell_type": "code",
      "source": [
        "text = input(\"Insira uma String: \")\n",
        "\n",
        "vogais = \"aeiou\"\n",
        "countConsoantes = 0\n",
        "countVogais = 0\n",
        "for caracter in text:\n",
        "  if caracter in vogais:\n",
        "    countVogais += 1\n",
        "  else:\n",
        "    countConsoantes += 1\n",
        "\n",
        "print(f'Vogais: {countVogais}\\nConsoantes: {countConsoantes}')"
      ],
      "metadata": {
        "colab": {
          "base_uri": "https://localhost:8080/"
        },
        "id": "x_Mme7pPeCq1",
        "outputId": "dd7b7d30-3a9c-4b08-c9e9-90bdf8785e54"
      },
      "execution_count": null,
      "outputs": [
        {
          "output_type": "stream",
          "name": "stdout",
          "text": [
            "Insira uma String: python\n",
            "Vogais: 1\n",
            "Consoantes: 5\n"
          ]
        }
      ]
    },
    {
      "cell_type": "markdown",
      "source": [
        "##**Problema 3:**\n",
        "\n",
        "###Escreva um programa que inicialize três strings distintas, e na sequência unifique-as em uma nova variável. Sem utilizar métodos explícitos de remoção, na string unificada anteriormente, mantenha apenas a primeira e a última string inicialmente inseridas.\n"
      ],
      "metadata": {
        "id": "BBCXcCYzeFV0"
      }
    },
    {
      "cell_type": "code",
      "source": [
        "textOne = 'Python'\n",
        "\n",
        "textTwo = ' é legal '\n",
        "\n",
        "textThree = 'Divertido'\n",
        "\n",
        "unitString = textOne + textTwo + textThree\n",
        "\n",
        "print(f'String Unificada: {unitString}')\n",
        "\n",
        "tamOne = len(textOne)\n",
        "\n",
        "tamThree = len(textThree)\n",
        "\n",
        "unitString = unitString[0:tamOne] + \" \" + unitString[len(unitString)-tamThree:]\n",
        "\n",
        "print(f'String Modificada: {unitString}')"
      ],
      "metadata": {
        "colab": {
          "base_uri": "https://localhost:8080/"
        },
        "id": "oPMGJNh-eIVT",
        "outputId": "13f6d593-54a1-4b8e-9c57-25c8345dd973"
      },
      "execution_count": null,
      "outputs": [
        {
          "output_type": "stream",
          "name": "stdout",
          "text": [
            "String Unificada: Python é legal Divertido\n",
            "String Modificada: Python Divertido\n"
          ]
        }
      ]
    },
    {
      "cell_type": "markdown",
      "source": [
        "##**Problema 4:**\n",
        "\n",
        "###Peça ao usuário para inserir uma frase. Seu programa deve encontrar e exibir a palavra mais longa na frase. Você pode considerar que as palavras são separadas por espaços em branco. Por exemplo, se o usuário inserir \"Python é uma linguagem de programação poderosa\", o programa deve exibir \"programação\" como a palavra mais longa.\n"
      ],
      "metadata": {
        "id": "gqVHyf6veI3z"
      }
    },
    {
      "cell_type": "code",
      "source": [
        "text = input(\"Insira uma String: \")\n",
        "\n",
        "vectorWord = text.split(' ')\n",
        "\n",
        "majorWord = 0\n",
        "\n",
        "for word in range(0, len(vectorWord)):\n",
        "  if len(vectorWord[word]) > len(vectorWord[majorWord]):\n",
        "    majorWord = word\n",
        "\n",
        "print(f\"Maior palavra: {vectorWord[majorWord]}\")"
      ],
      "metadata": {
        "colab": {
          "base_uri": "https://localhost:8080/"
        },
        "id": "tkihGFd-ekbU",
        "outputId": "c1ad9fa2-dce3-4fc3-f27c-6cde3f385d79"
      },
      "execution_count": null,
      "outputs": [
        {
          "output_type": "stream",
          "name": "stdout",
          "text": [
            "Insira uma String: Python é uma linguagem de programação poderosa\n",
            "Maior palavra: programação\n"
          ]
        }
      ]
    },
    {
      "cell_type": "markdown",
      "source": [
        "##**Problema 5:**\n",
        "\n",
        "###*Tokenização:* Divida a história em palavras individuais."
      ],
      "metadata": {
        "id": "EUguBBvyekwU"
      }
    },
    {
      "cell_type": "code",
      "source": [
        "tokenization = history.split(' ')\n",
        "\n",
        "print(tokenization)"
      ],
      "metadata": {
        "colab": {
          "base_uri": "https://localhost:8080/"
        },
        "id": "MyiX_sbYeojb",
        "outputId": "fbfd8bf3-b329-4ab8-d501-38f727167e50"
      },
      "execution_count": null,
      "outputs": [
        {
          "output_type": "stream",
          "name": "stdout",
          "text": [
            "['Joãozinho', 'e', 'Maria,', 'dois', 'irmãos', 'aventureiros,', 'decidiram', 'explorar', 'a', 'floresta', 'misteriosa', 'próxima', 'à', 'sua', 'casa.', 'A', 'floresta', 'era', 'densa,', 'com', 'árvores', 'altas', 'e', 'folhagem', 'espessa.', 'Enquanto', 'caminhavam,', 'João', 'e', 'Maria', 'encontraram', 'pegadas', 'estranhas', 'no', 'chão', 'e', 'decidiram', 'segui-las.', 'As', 'pegadas', 'os', 'levaram', 'a', 'uma', 'clareira', 'onde', 'descobriram', 'uma', 'casa', 'feita', 'inteiramente', 'de', 'doces!', 'Ficaram', 'fascinados', 'e', 'não', 'resistiram', 'à', 'tentação', 'de', 'experimentar', 'os', 'doces.', 'Mas,', 'assim', 'que', 'começaram', 'a', 'comer,', 'uma', 'bruxa', 'má', 'e', 'enrugada', 'apareceu.', 'A', 'bruxa', 'riu', 'de', 'forma', 'maligna', 'e', 'os', 'assustou.', 'Joãozinho', 'e', 'Maria,', 'apavorados,', 'deixaram', 'os', 'doces', 'e', 'fugiram', 'da', 'casa.', 'A', 'bruxa', 'tentou', 'segui-los,', 'mas', 'eles', 'eram', 'ágeis', 'e', 'conseguiram', 'escapar.', 'Finalmente,', 'após', 'uma', 'longa', 'e', 'cansativa', 'jornada,', 'João', 'e', 'Maria', 'voltaram', 'em', 'segurança', 'para', 'sua', 'casa,', 'onde', 'prometeram', 'nunca', 'mais', 'se', 'aventurar', 'naquela', 'floresta', 'perigosa.']\n"
          ]
        }
      ]
    },
    {
      "cell_type": "code",
      "source": [
        "nltk.download('punkt')"
      ],
      "metadata": {
        "colab": {
          "base_uri": "https://localhost:8080/"
        },
        "id": "Ez_GcdESl8yX",
        "outputId": "4075cf30-0737-47f1-d476-3b632aabe023"
      },
      "execution_count": null,
      "outputs": [
        {
          "output_type": "stream",
          "name": "stderr",
          "text": [
            "[nltk_data] Downloading package punkt to /root/nltk_data...\n",
            "[nltk_data]   Unzipping tokenizers/punkt.zip.\n"
          ]
        },
        {
          "output_type": "execute_result",
          "data": {
            "text/plain": [
              "True"
            ]
          },
          "metadata": {},
          "execution_count": 38
        }
      ]
    },
    {
      "cell_type": "code",
      "source": [
        "tokenization = word_tokenize(history)\n",
        "\n",
        "print(tokenization)"
      ],
      "metadata": {
        "colab": {
          "base_uri": "https://localhost:8080/"
        },
        "id": "f4IfdEHomBmQ",
        "outputId": "a376bd40-e5a0-4049-fe11-702878f42514"
      },
      "execution_count": null,
      "outputs": [
        {
          "output_type": "stream",
          "name": "stdout",
          "text": [
            "['Joãozinho', 'e', 'Maria', ',', 'dois', 'irmãos', 'aventureiros', ',', 'decidiram', 'explorar', 'a', 'floresta', 'misteriosa', 'próxima', 'à', 'sua', 'casa', '.', 'A', 'floresta', 'era', 'densa', ',', 'com', 'árvores', 'altas', 'e', 'folhagem', 'espessa', '.', 'Enquanto', 'caminhavam', ',', 'João', 'e', 'Maria', 'encontraram', 'pegadas', 'estranhas', 'no', 'chão', 'e', 'decidiram', 'segui-las', '.', 'As', 'pegadas', 'os', 'levaram', 'a', 'uma', 'clareira', 'onde', 'descobriram', 'uma', 'casa', 'feita', 'inteiramente', 'de', 'doces', '!', 'Ficaram', 'fascinados', 'e', 'não', 'resistiram', 'à', 'tentação', 'de', 'experimentar', 'os', 'doces', '.', 'Mas', ',', 'assim', 'que', 'começaram', 'a', 'comer', ',', 'uma', 'bruxa', 'má', 'e', 'enrugada', 'apareceu', '.', 'A', 'bruxa', 'riu', 'de', 'forma', 'maligna', 'e', 'os', 'assustou', '.', 'Joãozinho', 'e', 'Maria', ',', 'apavorados', ',', 'deixaram', 'os', 'doces', 'e', 'fugiram', 'da', 'casa', '.', 'A', 'bruxa', 'tentou', 'segui-los', ',', 'mas', 'eles', 'eram', 'ágeis', 'e', 'conseguiram', 'escapar', '.', 'Finalmente', ',', 'após', 'uma', 'longa', 'e', 'cansativa', 'jornada', ',', 'João', 'e', 'Maria', 'voltaram', 'em', 'segurança', 'para', 'sua', 'casa', ',', 'onde', 'prometeram', 'nunca', 'mais', 'se', 'aventurar', 'naquela', 'floresta', 'perigosa', '.']\n"
          ]
        }
      ]
    },
    {
      "cell_type": "markdown",
      "source": [
        "##**Problema 6:**\n",
        "\n",
        "###*Remoção de stopwords:* Remova as palavras de parada (stopwords) do texto. Você pode usar a lista de stopwords do NLTK ou outra lista de sua escolha."
      ],
      "metadata": {
        "id": "jQpNU1M1eoqU"
      }
    },
    {
      "cell_type": "code",
      "source": [
        "nltk.download('stopwords')"
      ],
      "metadata": {
        "colab": {
          "base_uri": "https://localhost:8080/"
        },
        "id": "YsmxbFcTep5k",
        "outputId": "58eb49fb-2cf4-407c-b873-bd18246907ad"
      },
      "execution_count": null,
      "outputs": [
        {
          "output_type": "stream",
          "name": "stderr",
          "text": [
            "[nltk_data] Downloading package stopwords to /root/nltk_data...\n",
            "[nltk_data]   Package stopwords is already up-to-date!\n"
          ]
        },
        {
          "output_type": "execute_result",
          "data": {
            "text/plain": [
              "True"
            ]
          },
          "metadata": {},
          "execution_count": 47
        }
      ]
    },
    {
      "cell_type": "code",
      "source": [
        "stop_words = set(stopwords.words('portuguese'))"
      ],
      "metadata": {
        "id": "eX7r03r5mV8P"
      },
      "execution_count": null,
      "outputs": []
    },
    {
      "cell_type": "code",
      "source": [
        "leaveStopWords = [word for word in tokenization if word.lower() not in stop_words]"
      ],
      "metadata": {
        "id": "vjqsvvLomaJ3"
      },
      "execution_count": null,
      "outputs": []
    },
    {
      "cell_type": "code",
      "source": [
        "print(leaveStopWords)"
      ],
      "metadata": {
        "colab": {
          "base_uri": "https://localhost:8080/"
        },
        "id": "vwquVQBhmev_",
        "outputId": "cf7454be-4d11-4ab5-eba0-e9d323aa4188"
      },
      "execution_count": null,
      "outputs": [
        {
          "output_type": "stream",
          "name": "stdout",
          "text": [
            "['Joãozinho', 'Maria', ',', 'dois', 'irmãos', 'aventureiros', ',', 'decidiram', 'explorar', 'floresta', 'misteriosa', 'próxima', 'casa', '.', 'floresta', 'densa', ',', 'árvores', 'altas', 'folhagem', 'espessa', '.', 'Enquanto', 'caminhavam', ',', 'João', 'Maria', 'encontraram', 'pegadas', 'estranhas', 'chão', 'decidiram', 'segui-las', '.', 'pegadas', 'levaram', 'clareira', 'onde', 'descobriram', 'casa', 'feita', 'inteiramente', 'doces', '!', 'Ficaram', 'fascinados', 'resistiram', 'tentação', 'experimentar', 'doces', '.', ',', 'assim', 'começaram', 'comer', ',', 'bruxa', 'má', 'enrugada', 'apareceu', '.', 'bruxa', 'riu', 'forma', 'maligna', 'assustou', '.', 'Joãozinho', 'Maria', ',', 'apavorados', ',', 'deixaram', 'doces', 'fugiram', 'casa', '.', 'bruxa', 'tentou', 'segui-los', ',', 'ágeis', 'conseguiram', 'escapar', '.', 'Finalmente', ',', 'após', 'longa', 'cansativa', 'jornada', ',', 'João', 'Maria', 'voltaram', 'segurança', 'casa', ',', 'onde', 'prometeram', 'nunca', 'aventurar', 'naquela', 'floresta', 'perigosa', '.']\n"
          ]
        }
      ]
    },
    {
      "cell_type": "markdown",
      "source": [
        "##**Problema 7:**\n",
        "\n",
        "###*Normalização:* Normalize o texto fornecido em letras minúsculas e também remova os acentos encontrados. Considere o uso da biblioteca unidecode."
      ],
      "metadata": {
        "id": "2FEVq6_6ep_d"
      }
    },
    {
      "cell_type": "markdown",
      "source": [
        "###Utilizando Regex"
      ],
      "metadata": {
        "id": "nliPA0UTnwmA"
      }
    },
    {
      "cell_type": "code",
      "source": [
        "import re\n",
        "\n",
        "lowerWords = [word.lower() for word in tokenization]\n",
        "print(lowerWords)\n",
        "\n",
        "cleanWords = [re.sub(r'[^\\x00-\\x7F]', '', palavra) for palavra in lowerWords]\n",
        "\n",
        "print(cleanWords)\n"
      ],
      "metadata": {
        "colab": {
          "base_uri": "https://localhost:8080/"
        },
        "id": "_TNfv1yOnyNy",
        "outputId": "56882987-f8ba-4be9-e971-5831e3341359"
      },
      "execution_count": null,
      "outputs": [
        {
          "output_type": "stream",
          "name": "stdout",
          "text": [
            "['joãozinho', 'e', 'maria', ',', 'dois', 'irmãos', 'aventureiros', ',', 'decidiram', 'explorar', 'a', 'floresta', 'misteriosa', 'próxima', 'à', 'sua', 'casa', '.', 'a', 'floresta', 'era', 'densa', ',', 'com', 'árvores', 'altas', 'e', 'folhagem', 'espessa', '.', 'enquanto', 'caminhavam', ',', 'joão', 'e', 'maria', 'encontraram', 'pegadas', 'estranhas', 'no', 'chão', 'e', 'decidiram', 'segui-las', '.', 'as', 'pegadas', 'os', 'levaram', 'a', 'uma', 'clareira', 'onde', 'descobriram', 'uma', 'casa', 'feita', 'inteiramente', 'de', 'doces', '!', 'ficaram', 'fascinados', 'e', 'não', 'resistiram', 'à', 'tentação', 'de', 'experimentar', 'os', 'doces', '.', 'mas', ',', 'assim', 'que', 'começaram', 'a', 'comer', ',', 'uma', 'bruxa', 'má', 'e', 'enrugada', 'apareceu', '.', 'a', 'bruxa', 'riu', 'de', 'forma', 'maligna', 'e', 'os', 'assustou', '.', 'joãozinho', 'e', 'maria', ',', 'apavorados', ',', 'deixaram', 'os', 'doces', 'e', 'fugiram', 'da', 'casa', '.', 'a', 'bruxa', 'tentou', 'segui-los', ',', 'mas', 'eles', 'eram', 'ágeis', 'e', 'conseguiram', 'escapar', '.', 'finalmente', ',', 'após', 'uma', 'longa', 'e', 'cansativa', 'jornada', ',', 'joão', 'e', 'maria', 'voltaram', 'em', 'segurança', 'para', 'sua', 'casa', ',', 'onde', 'prometeram', 'nunca', 'mais', 'se', 'aventurar', 'naquela', 'floresta', 'perigosa', '.']\n",
            "['joozinho', 'e', 'maria', ',', 'dois', 'irmos', 'aventureiros', ',', 'decidiram', 'explorar', 'a', 'floresta', 'misteriosa', 'prxima', '', 'sua', 'casa', '.', 'a', 'floresta', 'era', 'densa', ',', 'com', 'rvores', 'altas', 'e', 'folhagem', 'espessa', '.', 'enquanto', 'caminhavam', ',', 'joo', 'e', 'maria', 'encontraram', 'pegadas', 'estranhas', 'no', 'cho', 'e', 'decidiram', 'segui-las', '.', 'as', 'pegadas', 'os', 'levaram', 'a', 'uma', 'clareira', 'onde', 'descobriram', 'uma', 'casa', 'feita', 'inteiramente', 'de', 'doces', '!', 'ficaram', 'fascinados', 'e', 'no', 'resistiram', '', 'tentao', 'de', 'experimentar', 'os', 'doces', '.', 'mas', ',', 'assim', 'que', 'comearam', 'a', 'comer', ',', 'uma', 'bruxa', 'm', 'e', 'enrugada', 'apareceu', '.', 'a', 'bruxa', 'riu', 'de', 'forma', 'maligna', 'e', 'os', 'assustou', '.', 'joozinho', 'e', 'maria', ',', 'apavorados', ',', 'deixaram', 'os', 'doces', 'e', 'fugiram', 'da', 'casa', '.', 'a', 'bruxa', 'tentou', 'segui-los', ',', 'mas', 'eles', 'eram', 'geis', 'e', 'conseguiram', 'escapar', '.', 'finalmente', ',', 'aps', 'uma', 'longa', 'e', 'cansativa', 'jornada', ',', 'joo', 'e', 'maria', 'voltaram', 'em', 'segurana', 'para', 'sua', 'casa', ',', 'onde', 'prometeram', 'nunca', 'mais', 'se', 'aventurar', 'naquela', 'floresta', 'perigosa', '.']\n"
          ]
        }
      ]
    },
    {
      "cell_type": "markdown",
      "source": [
        "###Utilizando a Biblioteca Unidecode"
      ],
      "metadata": {
        "id": "4sFHlOgZnqIn"
      }
    },
    {
      "cell_type": "code",
      "source": [
        "lowerWords = [word.lower() for word in tokenization]\n",
        "print(lowerWords)\n",
        "\n",
        "cleanWords = [unidecode(word) for word in lowerWords]\n",
        "\n",
        "print(cleanWords)"
      ],
      "metadata": {
        "colab": {
          "base_uri": "https://localhost:8080/"
        },
        "id": "k1Ia_MG5eqHW",
        "outputId": "840ce989-923c-401c-8a1c-4c620216c3ca"
      },
      "execution_count": null,
      "outputs": [
        {
          "output_type": "stream",
          "name": "stdout",
          "text": [
            "['joãozinho', 'e', 'maria', ',', 'dois', 'irmãos', 'aventureiros', ',', 'decidiram', 'explorar', 'a', 'floresta', 'misteriosa', 'próxima', 'à', 'sua', 'casa', '.', 'a', 'floresta', 'era', 'densa', ',', 'com', 'árvores', 'altas', 'e', 'folhagem', 'espessa', '.', 'enquanto', 'caminhavam', ',', 'joão', 'e', 'maria', 'encontraram', 'pegadas', 'estranhas', 'no', 'chão', 'e', 'decidiram', 'segui-las', '.', 'as', 'pegadas', 'os', 'levaram', 'a', 'uma', 'clareira', 'onde', 'descobriram', 'uma', 'casa', 'feita', 'inteiramente', 'de', 'doces', '!', 'ficaram', 'fascinados', 'e', 'não', 'resistiram', 'à', 'tentação', 'de', 'experimentar', 'os', 'doces', '.', 'mas', ',', 'assim', 'que', 'começaram', 'a', 'comer', ',', 'uma', 'bruxa', 'má', 'e', 'enrugada', 'apareceu', '.', 'a', 'bruxa', 'riu', 'de', 'forma', 'maligna', 'e', 'os', 'assustou', '.', 'joãozinho', 'e', 'maria', ',', 'apavorados', ',', 'deixaram', 'os', 'doces', 'e', 'fugiram', 'da', 'casa', '.', 'a', 'bruxa', 'tentou', 'segui-los', ',', 'mas', 'eles', 'eram', 'ágeis', 'e', 'conseguiram', 'escapar', '.', 'finalmente', ',', 'após', 'uma', 'longa', 'e', 'cansativa', 'jornada', ',', 'joão', 'e', 'maria', 'voltaram', 'em', 'segurança', 'para', 'sua', 'casa', ',', 'onde', 'prometeram', 'nunca', 'mais', 'se', 'aventurar', 'naquela', 'floresta', 'perigosa', '.']\n",
            "['joaozinho', 'e', 'maria', ',', 'dois', 'irmaos', 'aventureiros', ',', 'decidiram', 'explorar', 'a', 'floresta', 'misteriosa', 'proxima', 'a', 'sua', 'casa', '.', 'a', 'floresta', 'era', 'densa', ',', 'com', 'arvores', 'altas', 'e', 'folhagem', 'espessa', '.', 'enquanto', 'caminhavam', ',', 'joao', 'e', 'maria', 'encontraram', 'pegadas', 'estranhas', 'no', 'chao', 'e', 'decidiram', 'segui-las', '.', 'as', 'pegadas', 'os', 'levaram', 'a', 'uma', 'clareira', 'onde', 'descobriram', 'uma', 'casa', 'feita', 'inteiramente', 'de', 'doces', '!', 'ficaram', 'fascinados', 'e', 'nao', 'resistiram', 'a', 'tentacao', 'de', 'experimentar', 'os', 'doces', '.', 'mas', ',', 'assim', 'que', 'comecaram', 'a', 'comer', ',', 'uma', 'bruxa', 'ma', 'e', 'enrugada', 'apareceu', '.', 'a', 'bruxa', 'riu', 'de', 'forma', 'maligna', 'e', 'os', 'assustou', '.', 'joaozinho', 'e', 'maria', ',', 'apavorados', ',', 'deixaram', 'os', 'doces', 'e', 'fugiram', 'da', 'casa', '.', 'a', 'bruxa', 'tentou', 'segui-los', ',', 'mas', 'eles', 'eram', 'ageis', 'e', 'conseguiram', 'escapar', '.', 'finalmente', ',', 'apos', 'uma', 'longa', 'e', 'cansativa', 'jornada', ',', 'joao', 'e', 'maria', 'voltaram', 'em', 'seguranca', 'para', 'sua', 'casa', ',', 'onde', 'prometeram', 'nunca', 'mais', 'se', 'aventurar', 'naquela', 'floresta', 'perigosa', '.']\n"
          ]
        }
      ]
    },
    {
      "cell_type": "markdown",
      "source": [
        "##**Problema 8:**\n",
        "\n",
        "###*Uso de Expressões Regulares:* Use expressões regulares para encontrar todas as ocorrências das palavras \"João\" e \"Maria\", inclusive como subpalavras, na história e destaque essas palavras no texto, reescrevendo-as com todas as letras maiúsculas."
      ],
      "metadata": {
        "id": "p9pj-bZleqNL"
      }
    },
    {
      "cell_type": "code",
      "source": [
        "import re\n",
        "\n",
        "# Expressão regular para encontrar \"João\" e \"Maria\", incluindo subpalavras\n",
        "padrao = re.compile(r'^joao|joao|^maria|maria')\n",
        "listWord = []\n",
        "# Aplicar a substituição em cada palavra na lista\n",
        "for palavra in cleanWords:\n",
        "    if padrao.search(palavra):\n",
        "       listWord.append(palavra.upper())\n",
        "\n",
        "print(f'Lista de Palavras encotradas: {listWord}')\n",
        "\n",
        "for palavra in range(0, len(cleanWords)):\n",
        "    if padrao.search(cleanWords[palavra]):\n",
        "       cleanWords[palavra] = (cleanWords[palavra].upper())\n",
        "\n",
        "wordsJoin = ' '.join(cleanWords)\n",
        "print(f'Palavras destacadas no texto:\\n{wordsJoin}')\n",
        "\n"
      ],
      "metadata": {
        "colab": {
          "base_uri": "https://localhost:8080/"
        },
        "id": "5fgB35RBeqTs",
        "outputId": "84576d5d-5583-4cb0-cd5c-e2035b40c477"
      },
      "execution_count": null,
      "outputs": [
        {
          "output_type": "stream",
          "name": "stdout",
          "text": [
            "Lista de Palavras encotradas: ['JOAOZINHO', 'MARIA', 'JOAO', 'MARIA', 'JOAOZINHO', 'MARIA', 'JOAO', 'MARIA']\n",
            "Palavras destacadas no texto:\n",
            "JOAOZINHO e MARIA , dois irmaos aventureiros , decidiram explorar a floresta misteriosa proxima a sua casa . a floresta era densa , com arvores altas e folhagem espessa . enquanto caminhavam , JOAO e MARIA encontraram pegadas estranhas no chao e decidiram segui-las . as pegadas os levaram a uma clareira onde descobriram uma casa feita inteiramente de doces ! ficaram fascinados e nao resistiram a tentacao de experimentar os doces . mas , assim que comecaram a comer , uma bruxa ma e enrugada apareceu . a bruxa riu de forma maligna e os assustou . JOAOZINHO e MARIA , apavorados , deixaram os doces e fugiram da casa . a bruxa tentou segui-los , mas eles eram ageis e conseguiram escapar . finalmente , apos uma longa e cansativa jornada , JOAO e MARIA voltaram em seguranca para sua casa , onde prometeram nunca mais se aventurar naquela floresta perigosa .\n"
          ]
        }
      ]
    }
  ]
}